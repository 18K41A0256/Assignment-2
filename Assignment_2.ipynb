{
  "nbformat": 4,
  "nbformat_minor": 0,
  "metadata": {
    "colab": {
      "name": "Assignment-2.ipynb",
      "provenance": [],
      "authorship_tag": "ABX9TyMKfLckG8bGXge9Op9l0ETh",
      "include_colab_link": true
    },
    "kernelspec": {
      "name": "python3",
      "display_name": "Python 3"
    }
  },
  "cells": [
    {
      "cell_type": "markdown",
      "metadata": {
        "id": "view-in-github",
        "colab_type": "text"
      },
      "source": [
        "<a href=\"https://colab.research.google.com/github/18K41A0256/Assignment-2/blob/master/Assignment_2.ipynb\" target=\"_parent\"><img src=\"https://colab.research.google.com/assets/colab-badge.svg\" alt=\"Open In Colab\"/></a>"
      ]
    },
    {
      "cell_type": "markdown",
      "metadata": {
        "id": "d4rjploNNvCx",
        "colab_type": "text"
      },
      "source": [
        "1) Area of Triangle : Given the lengths of three sides of a triangle, calculate the area of the triangle.\n"
      ]
    },
    {
      "cell_type": "code",
      "metadata": {
        "id": "UpaIKDmFOMQU",
        "colab_type": "code",
        "colab": {
          "base_uri": "https://localhost:8080/",
          "height": 85
        },
        "outputId": "205fadc6-5064-44ef-ecc4-2a06aa211647"
      },
      "source": [
        "A = float(input('Enter the first side : '))\n",
        "B = float(input('Enter the second side : '))\n",
        "C = float(input('Enter the third side : '))\n",
        "S = (A+B+C)/2\n",
        "a=(S*(S-A)*(S-B)*(S-C)) ** 0.5\n",
        "print('The area of the triangle is',a)"
      ],
      "execution_count": null,
      "outputs": [
        {
          "output_type": "stream",
          "text": [
            "Enter the first side : 3\n",
            "Enter the second side : 4\n",
            "Enter the third side : 5\n",
            "The area of the triangle is 6.0\n"
          ],
          "name": "stdout"
        }
      ]
    },
    {
      "cell_type": "markdown",
      "metadata": {
        "id": "Yd7hNHsEOSwm",
        "colab_type": "text"
      },
      "source": [
        "2) Take a string from end user and check if the value is palindrome or not\n"
      ]
    },
    {
      "cell_type": "code",
      "metadata": {
        "id": "3OHIEmcUOZFY",
        "colab_type": "code",
        "colab": {
          "base_uri": "https://localhost:8080/",
          "height": 51
        },
        "outputId": "4b839e3e-4e62-4b5d-80ab-f245a6a444a8"
      },
      "source": [
        "a=input('enter a string : ')\n",
        "b=a[::-1]\n",
        "if a==b:\n",
        "  print(\"string is a palindrome\")\n",
        "else:\n",
        "  print(\"string is a not palindrome\")"
      ],
      "execution_count": null,
      "outputs": [
        {
          "output_type": "stream",
          "text": [
            "enter a string : mam\n",
            "string is a palindrome\n"
          ],
          "name": "stdout"
        }
      ]
    },
    {
      "cell_type": "markdown",
      "metadata": {
        "id": "csiFkwbvOjAF",
        "colab_type": "text"
      },
      "source": [
        "3) Write a program that reads a year from the user and displays a message Indicating whether or not it is a leap year."
      ]
    },
    {
      "cell_type": "code",
      "metadata": {
        "id": "fH9mP1gmOnVq",
        "colab_type": "code",
        "colab": {
          "base_uri": "https://localhost:8080/",
          "height": 51
        },
        "outputId": "86b6848e-f7e8-458e-c95b-a7219254e056"
      },
      "source": [
        "y=int(input('enter year you want to check : '))\n",
        "if y%4==0:\n",
        "  print(y,'is a leap year')\n",
        "else:\n",
        "  print(y,'is not a leap year')"
      ],
      "execution_count": null,
      "outputs": [
        {
          "output_type": "stream",
          "text": [
            "enter year you want to check : 2004\n",
            "2004 is a leap year\n"
          ],
          "name": "stdout"
        }
      ]
    },
    {
      "cell_type": "markdown",
      "metadata": {
        "id": "0xdS5T78Owhl",
        "colab_type": "text"
      },
      "source": [
        "4) Take a string as input, and replaces spaces “ “ with hyphens “-”, and returns a string."
      ]
    },
    {
      "cell_type": "code",
      "metadata": {
        "id": "u2h-xBBQO1PH",
        "colab_type": "code",
        "colab": {
          "base_uri": "https://localhost:8080/",
          "height": 51
        },
        "outputId": "5db43f5b-aead-447c-9e6f-97d07902b2ae"
      },
      "source": [
        "st=input(\"Enter any string :\")\n",
        "st=st.replace(' ','-')\n",
        "print(\"string after replacing space with hyphen is = \",st)"
      ],
      "execution_count": null,
      "outputs": [
        {
          "output_type": "stream",
          "text": [
            "Enter any string :This program converts spaces into hyphen\n",
            "string after replacing space with hyphen is =  This-program-converts-spaces-into-hyphen\n"
          ],
          "name": "stdout"
        }
      ]
    },
    {
      "cell_type": "markdown",
      "metadata": {
        "id": "xpUhQU5CPAu2",
        "colab_type": "text"
      },
      "source": [
        "5) Take a string as input that accepts a comma separated sequence of words as input and prints the unique words in sorted form (alphanumerically)"
      ]
    },
    {
      "cell_type": "code",
      "metadata": {
        "id": "7wqQoD63PFX9",
        "colab_type": "code",
        "colab": {
          "base_uri": "https://localhost:8080/",
          "height": 68
        },
        "outputId": "d183199e-f20e-48a4-ac98-942ec658ca4f"
      },
      "source": [
        "s = input(\"enter list of words with commas : \")\n",
        "k = [k for k in s.split(\",\")]\n",
        "print('alphanumerically sorted string is :')\n",
        "print(\",\".join(sorted(list(set(k)))))"
      ],
      "execution_count": null,
      "outputs": [
        {
          "output_type": "stream",
          "text": [
            "enter list of words with commas : orange,white,red,cyan,green,magenta,cyan,pink,white\n",
            "alphanumerically sorted string is :\n",
            "cyan,green,magenta,orange,pink,red,white\n"
          ],
          "name": "stdout"
        }
      ]
    },
    {
      "cell_type": "markdown",
      "metadata": {
        "id": "--EyHVZ7PxAQ",
        "colab_type": "text"
      },
      "source": [
        "6) Tax Calculator Ask the user for their monthly salary. Calculate whether they have to pay tax and if so, how much is that amount .Print the result"
      ]
    },
    {
      "cell_type": "code",
      "metadata": {
        "id": "YPehNZCVQLBK",
        "colab_type": "code",
        "colab": {
          "base_uri": "https://localhost:8080/",
          "height": 51
        },
        "outputId": "0d8dcfdc-b443-4974-8f25-6a4b077b2440"
      },
      "source": [
        "t={1:0,2:0.05,3:0.1,4:0.15,5:0.2,6:0.25,7:0.3}\n",
        "sa=int(input('please enter your salary : '))\n",
        "if sa<250000:\n",
        "  i=1\n",
        "elif 250001<sa<500000:\n",
        "  i=2\n",
        "elif 500001<sa<750000:\n",
        "  i=3\n",
        "elif 750001<sa<1000000:\n",
        "  i=4\n",
        "elif 1000001<sa<1250000:\n",
        "  i=5\n",
        "elif 1250001<sa<1500000:\n",
        "  i=6\n",
        "else:\n",
        "  i=7\n",
        "sa=sa*t[i]\n",
        "print(\"your tax payablee is\", sa)"
      ],
      "execution_count": 9,
      "outputs": [
        {
          "output_type": "stream",
          "text": [
            "please enter your salary : 309000\n",
            "your tax payablee is 15450.0\n"
          ],
          "name": "stdout"
        }
      ]
    },
    {
      "cell_type": "markdown",
      "metadata": {
        "id": "lcmESkFXQtHt",
        "colab_type": "text"
      },
      "source": [
        "7) Take a list of integers as an argument, and converts it into a single integer (return the integer)."
      ]
    },
    {
      "cell_type": "code",
      "metadata": {
        "id": "SVgld_enQyRM",
        "colab_type": "code",
        "colab": {
          "base_uri": "https://localhost:8080/",
          "height": 170
        },
        "outputId": "bd79c7e3-d9ee-41e2-d7a6-93258ca47b22"
      },
      "source": [
        "s=[]\n",
        "n=int(input('Enter number of elements :')) \n",
        "print('enter elements :')\n",
        "for i in range(0, n): \n",
        "\te = int(input()) \n",
        "\ts.append(e)\t\n",
        "print('list of integers entered is',s)\n",
        "k=i=0\n",
        "for n in s:\n",
        "  k=n+k*10\n",
        "  i+=1\n",
        "print('the list as single integer is - ',k)"
      ],
      "execution_count": 12,
      "outputs": [
        {
          "output_type": "stream",
          "text": [
            "Enter number of elements :5\n",
            "enter elements :\n",
            "1\n",
            "8\n",
            "2\n",
            "8\n",
            "1\n",
            "list of integers entered is [1, 8, 2, 8, 1]\n",
            "the list as single integer is -  18281\n"
          ],
          "name": "stdout"
        }
      ]
    },
    {
      "cell_type": "markdown",
      "metadata": {
        "id": "LXKSd8Q6RT5Y",
        "colab_type": "text"
      },
      "source": [
        "8) Create a program that reads duration from the user as a number of days, hours, minutes, and seconds. Compute and display the total number of seconds represented by this duration\n"
      ]
    },
    {
      "cell_type": "code",
      "metadata": {
        "id": "y2bKrdJkRa1P",
        "colab_type": "code",
        "colab": {
          "base_uri": "https://localhost:8080/",
          "height": 102
        },
        "outputId": "9dfba442-786f-4e72-f1c2-e32b8999eb84"
      },
      "source": [
        "d=int(input('enter number of days'))\n",
        "h=int(input('enter number of hours'))\n",
        "m=int(input('enter number of minutes'))\n",
        "s=int(input('enter number of seconds'))\n",
        "print('total number of seconds are ',d*86400+h*3600+m*60+s)"
      ],
      "execution_count": 13,
      "outputs": [
        {
          "output_type": "stream",
          "text": [
            "enter number of days2\n",
            "enter number of hours12\n",
            "enter number of minutes45\n",
            "enter number of seconds30\n",
            "total number of seconds are  218730\n"
          ],
          "name": "stdout"
        }
      ]
    },
    {
      "cell_type": "markdown",
      "metadata": {
        "id": "FBlzGC9cRppG",
        "colab_type": "text"
      },
      "source": [
        "9) Given three integers (given through user input), sort the numbers using |min| and |max| functions."
      ]
    },
    {
      "cell_type": "code",
      "metadata": {
        "id": "604Okzc0RwKS",
        "colab_type": "code",
        "colab": {
          "base_uri": "https://localhost:8080/",
          "height": 85
        },
        "outputId": "c314373e-97fa-4429-e2db-db2f9297ba24"
      },
      "source": [
        "a=int(input('enter first number : '))\n",
        "b=int(input('enter second number : '))\n",
        "c=int(input('enter third number : '))\n",
        "ma=max(a,b,c)\n",
        "mi=min(a,b,c)\n",
        "print('the numbers are shorted in order of: ',mi,a+b+c-(ma+mi),ma)"
      ],
      "execution_count": 15,
      "outputs": [
        {
          "output_type": "stream",
          "text": [
            "enter first number : 6\n",
            "enter second number : 5\n",
            "enter third number : 2\n",
            "the numbers are shorted in order of:  2 5 6\n"
          ],
          "name": "stdout"
        }
      ]
    },
    {
      "cell_type": "markdown",
      "metadata": {
        "id": "UY-ELD1JR-cx",
        "colab_type": "text"
      },
      "source": [
        "10) Write a program that reads a date from the user and computes its immediate successor. The date is the format YYYY-MM-DD. So, 2020-04-15 will have the successor 2020-04-16."
      ]
    },
    {
      "cell_type": "code",
      "metadata": {
        "id": "OVd_MvOVSFtu",
        "colab_type": "code",
        "colab": {
          "base_uri": "https://localhost:8080/",
          "height": 85
        },
        "outputId": "a81662d9-41ce-4b31-c8b0-dc7400a74d62"
      },
      "source": [
        "y = int(input(\"enter a year: \"))\n",
        "m= int(input(\"Input a month [1-12]: \"))\n",
        "d = int(input(\"Input a day [1-31]: \"))\n",
        "if (y % 4 == 0):\n",
        "  ly = True\n",
        "else:\n",
        "  ly = False\n",
        "if m in (1, 3, 5, 7, 8, 10, 12):\n",
        "  ml= 31\n",
        "elif m == 2:\n",
        "    if ly:\n",
        "        ml= 29\n",
        "    else:\n",
        "        ml = 28\n",
        "else:\n",
        "    ml= 30\n",
        "if d < ml:\n",
        "    d += 1\n",
        "else:\n",
        "    d=1\n",
        "    if m == 12:\n",
        "        m = 1\n",
        "        y += 1\n",
        "    else:\n",
        "        m += 1\n",
        "print(\"The next date : \" ,y,m,d)"
      ],
      "execution_count": 17,
      "outputs": [
        {
          "output_type": "stream",
          "text": [
            "enter a year: 2020\n",
            "Input a month [1-12]: 05\n",
            "Input a day [1-31]: 28\n",
            "The next date :  2020 5 29\n"
          ],
          "name": "stdout"
        }
      ]
    },
    {
      "cell_type": "markdown",
      "metadata": {
        "id": "El1P1Tu0S5MW",
        "colab_type": "text"
      },
      "source": [
        "11) Compute product of a list of numbers [45 ,3,2,89,72,1,10,7] Output: 121111200"
      ]
    },
    {
      "cell_type": "code",
      "metadata": {
        "id": "AfZvRGYyS-nJ",
        "colab_type": "code",
        "colab": {
          "base_uri": "https://localhost:8080/",
          "height": 34
        },
        "outputId": "70d7dc93-e51b-4f9b-9b66-696c41fc63c1"
      },
      "source": [
        "l=[45,3,2,89,72,1,10,7]\n",
        "r=1\n",
        "for i in l:\n",
        "  r*=i\n",
        "print(\"multiplication of all elements : \",r)"
      ],
      "execution_count": 18,
      "outputs": [
        {
          "output_type": "stream",
          "text": [
            "multiplication of all elements :  121111200\n"
          ],
          "name": "stdout"
        }
      ]
    },
    {
      "cell_type": "markdown",
      "metadata": {
        "id": "GMKz1l40TNd8",
        "colab_type": "text"
      },
      "source": [
        "12) Compute given Num_list = [5, 6,8 ,34,89,1] to get desired output Output: Out_list=[11,14,42,123,90]"
      ]
    },
    {
      "cell_type": "code",
      "metadata": {
        "id": "kuzf0CT8TU5G",
        "colab_type": "code",
        "colab": {
          "base_uri": "https://localhost:8080/",
          "height": 187
        },
        "outputId": "c898b2b9-8f6a-4457-c266-50427dd78879"
      },
      "source": [
        "l=[]\n",
        "n=int(input('Enter number of elements :')) \n",
        "print('enter elements :')\n",
        "for i in range(0, n): \n",
        "\te = int(input()) \n",
        "\tl.append(e)\n",
        "print('list you have entered is : ',str(l)) \n",
        "s=[] \n",
        "for i in range(1, len(l)): \n",
        "\ts.append(l[i]+l[i-1]) \n",
        "print (\"difference list : \",s) "
      ],
      "execution_count": 19,
      "outputs": [
        {
          "output_type": "stream",
          "text": [
            "Enter number of elements :6\n",
            "enter elements :\n",
            "2\n",
            "7\n",
            "17\n",
            "18\n",
            "36\n",
            "49\n",
            "list you have entered is :  [2, 7, 17, 18, 36, 49]\n",
            "difference list :  [9, 24, 35, 54, 85]\n"
          ],
          "name": "stdout"
        }
      ]
    },
    {
      "cell_type": "markdown",
      "metadata": {
        "id": "IZIHY-xzT2Fl",
        "colab_type": "text"
      },
      "source": [
        "13) Compute given Num_tuple = (5, 6,8 ,3,9,1) to get desired output Output: Out_list = [5, 30, 240, 720, 6480, 6480]"
      ]
    },
    {
      "cell_type": "code",
      "metadata": {
        "id": "mwrEDIVTT9Um",
        "colab_type": "code",
        "colab": {
          "base_uri": "https://localhost:8080/",
          "height": 34
        },
        "outputId": "9e802d4c-f225-4e0c-fccf-f5d2d2bf6d7f"
      },
      "source": [
        "l=(5,6,8,3,9,1)\n",
        "p=[]\n",
        "r=1\n",
        "for i in l:\n",
        "  r*=i\n",
        "  p.append(r)\n",
        "print(\"multiplication list of all elements is : \",p)"
      ],
      "execution_count": 21,
      "outputs": [
        {
          "output_type": "stream",
          "text": [
            "multiplication list of all elements is :  [5, 30, 240, 720, 6480, 6480]\n"
          ],
          "name": "stdout"
        }
      ]
    },
    {
      "cell_type": "markdown",
      "metadata": {
        "id": "IedmYUIeUOO8",
        "colab_type": "text"
      },
      "source": [
        "14) Write a Python code that takes a number and returns a list of its digits. So for 586392 it should return [5,8,6,3,9,2]"
      ]
    },
    {
      "cell_type": "code",
      "metadata": {
        "id": "tChCH_ixUUiN",
        "colab_type": "code",
        "colab": {
          "base_uri": "https://localhost:8080/",
          "height": 51
        },
        "outputId": "bb842302-934f-4a7d-f984-6cb8d789146e"
      },
      "source": [
        "n=int(input('enter an integer : '))\n",
        "s=[]\n",
        "for x in str(n):\n",
        "  s.append(int(x))\n",
        "print(s)"
      ],
      "execution_count": 22,
      "outputs": [
        {
          "output_type": "stream",
          "text": [
            "enter an integer : 123456\n",
            "[1, 2, 3, 4, 5, 6]\n"
          ],
          "name": "stdout"
        }
      ]
    },
    {
      "cell_type": "markdown",
      "metadata": {
        "id": "jLyo12k7WIv8",
        "colab_type": "text"
      },
      "source": [
        "15.\tWrite a program that finds the longest palindromic substring of a given string"
      ]
    },
    {
      "cell_type": "code",
      "metadata": {
        "id": "Wbdi_GgEbQRB",
        "colab_type": "code",
        "colab": {
          "base_uri": "https://localhost:8080/",
          "height": 51
        },
        "outputId": "90de351c-95f8-458c-a842-5bfa9dfab9e4"
      },
      "source": [
        "def longestpalindrome(n):\n",
        "    d=[[False for i in range(len(n))] for i in range(len(n))]\n",
        "    for i in range(len(n)):\n",
        "        d[i][i]=True\n",
        "    maxlen=1\n",
        "    start=0\n",
        "    for j in range(2,len(n)+1):\n",
        "        for i in range(len(n)-j+1):\n",
        "            end=i+j\n",
        "            if j==2:\n",
        "                if n[i]==n[end-1]:\n",
        "                    d[i][end-1]=True\n",
        "                    maxlen=j\n",
        "                    start=i\n",
        "            else:\n",
        "                if n[i]==n[end-1] and d[i+1][end-2]:\n",
        "                    d[i][end-1]=True\n",
        "                    maxlen=j\n",
        "                    start=i\n",
        "    return n[start:start+maxlen]\n",
        "n=input(\"Enter a string : \")\n",
        "print(longestpalindrome(n))"
      ],
      "execution_count": 33,
      "outputs": [
        {
          "output_type": "stream",
          "text": [
            "Enter a string : Suryatej Bharatha\n",
            "ara\n"
          ],
          "name": "stdout"
        }
      ]
    },
    {
      "cell_type": "markdown",
      "metadata": {
        "id": "EYtKjy98WRUP",
        "colab_type": "text"
      },
      "source": [
        "16. Substring Check (Bug Funny)\n",
        "Given two binary strings, A (of length 10) and B (of length 5), output 1 if B is a substring of A and 0 otherwise.\n",
        "* First two lines of input:\n",
        "\n",
        "* 1010110010          10110\n",
        "* 1110111011           10011\n",
        "* First two lines of output:\n",
        "1\n",
        "0"
      ]
    },
    {
      "cell_type": "code",
      "metadata": {
        "id": "PcznxyAjWaZc",
        "colab_type": "code",
        "colab": {
          "base_uri": "https://localhost:8080/",
          "height": 68
        },
        "outputId": "4db5b015-982d-47ee-f91d-1cf3d6142683"
      },
      "source": [
        "s=input(\"Enter binary string:\")\n",
        "ss=input(\"Enter binary substring:\")\n",
        "if(s.find(ss)==-1):\n",
        "      print(\"0\")\n",
        "else:\n",
        "      print(\"1\")"
      ],
      "execution_count": 23,
      "outputs": [
        {
          "output_type": "stream",
          "text": [
            "Enter binary string:1010110010\n",
            "Enter binary substring:10110\n",
            "1\n"
          ],
          "name": "stdout"
        }
      ]
    },
    {
      "cell_type": "markdown",
      "metadata": {
        "id": "-09eaM4CWyDD",
        "colab_type": "text"
      },
      "source": [
        "17.\t  POUR1 - Pouring water\n",
        "Given two vessels, one of which can accommodate a litres of water and the other - b litres of water, determine the number of steps required to obtain exactly c litres of water in one of the vessels.\n",
        "At the beginning both vessels are empty. The following operations are counted as 'steps':\n",
        "*  \temptying a vessel,\n",
        "*  \tfilling a vessel,\n",
        "*  \tpouring water from one vessel to the other, without spilling, until one of the vessels is either full or empty.\n",
        "*   **Input** : An integer t, 1<=t<=100, denoting the number of testcases , followed by t sets of input data, each consisting of three positive integers a, b, c, not larger than 40000, given in separate lines.\n",
        "*   **Output** : For each set of input data, output the minimum number of steps required to obtain c litres, or -1 if this is impossible."
      ]
    },
    {
      "cell_type": "code",
      "metadata": {
        "id": "TqufkmsjW6w_",
        "colab_type": "code",
        "colab": {
          "base_uri": "https://localhost:8080/",
          "height": 102
        },
        "outputId": "c116c0b9-e2e3-4c43-fa86-0b562d1cb6d7"
      },
      "source": [
        "def gcd(a,b):\n",
        "    if b==0: \n",
        "        return a \n",
        "    return gcd(b,a%b) \n",
        "def countsteps(a,b,c): \n",
        "    v1=b\n",
        "    v2=0\n",
        "    count=1\n",
        "    while ((v1 is not c) and (v2 is not c)): \n",
        "        temp=min(v1,a-v2) \n",
        "        v2=v2+temp \n",
        "        v1=v1-temp \n",
        "        count=count+1\n",
        "        if ((v2==c)or(v1==c)): \n",
        "            break\n",
        "        if v1==0: \n",
        "            v1=b \n",
        "            count=count+1\n",
        "        if v2==a: \n",
        "            v2=0\n",
        "            count=count+1\n",
        "    return count \n",
        "def ispossible(a,b,c): \n",
        "    if a>b: \n",
        "        temp=a \n",
        "        a=b \n",
        "        b=temp \n",
        "    if c>b: \n",
        "        return -1\n",
        "    if (c%(gcd(b,a)) is not 0): \n",
        "        return -1\n",
        "    return(min(countsteps(b,a,c),countsteps(a,b,c)))\n",
        "t=int(input(\"Enter no of testcases : \"))\n",
        "for i in range(t):\n",
        "  a=int(input(\"Enter capacity of vessel a : \"))\n",
        "  b=int(input(\"Enter capacity of vessel b : \"))\n",
        "  c=int(input(\"Enter capacity to be obtained :\"))\n",
        "  print(\"Minimum number of steps required is : \",ispossible(a,b,c))\n"
      ],
      "execution_count": 25,
      "outputs": [
        {
          "output_type": "stream",
          "text": [
            "Enter no of testcases : 1\n",
            "Enter capacity of vessel a : 200\n",
            "Enter capacity of vessel b : 300\n",
            "Enter capacity to be obtained :400\n",
            "Minimum number of steps required is :  -1\n"
          ],
          "name": "stdout"
        }
      ]
    }
  ]
}